{
 "cells": [
  {
   "cell_type": "code",
   "execution_count": null,
   "metadata": {},
   "outputs": [],
   "source": [
    "%pip install pandas numpy openpyxl"
   ]
  },
  {
   "cell_type": "code",
   "execution_count": 16,
   "metadata": {},
   "outputs": [],
   "source": [
    "import pandas as pd\n",
    "import numpy as np\n",
    "import re\n",
    "from collections import defaultdict"
   ]
  },
  {
   "cell_type": "code",
   "execution_count": 3,
   "metadata": {},
   "outputs": [],
   "source": [
    "# Load transcription data and CATA dictionary\n",
    "tx_file = \"data/CSL_Laptop_Group1_word_level_transcriptions.csv\"\n",
    "dict_file = \"data/cata-dict.xlsx\""
   ]
  },
  {
   "cell_type": "code",
   "execution_count": 18,
   "metadata": {},
   "outputs": [],
   "source": [
    "transcription_df = pd.read_csv(tx_file)\n",
    "dictionary_df = pd.read_excel(dict_file, sheet_name='Marks_v2')"
   ]
  },
  {
   "cell_type": "code",
   "execution_count": 9,
   "metadata": {},
   "outputs": [
    {
     "data": {
      "text/html": [
       "<div>\n",
       "<style scoped>\n",
       "    .dataframe tbody tr th:only-of-type {\n",
       "        vertical-align: middle;\n",
       "    }\n",
       "\n",
       "    .dataframe tbody tr th {\n",
       "        vertical-align: top;\n",
       "    }\n",
       "\n",
       "    .dataframe thead th {\n",
       "        text-align: right;\n",
       "    }\n",
       "</style>\n",
       "<table border=\"1\" class=\"dataframe\">\n",
       "  <thead>\n",
       "    <tr style=\"text-align: right;\">\n",
       "      <th></th>\n",
       "      <th>start</th>\n",
       "      <th>end</th>\n",
       "      <th>text</th>\n",
       "      <th>speaker</th>\n",
       "    </tr>\n",
       "  </thead>\n",
       "  <tbody>\n",
       "    <tr>\n",
       "      <th>0</th>\n",
       "      <td>1.684</td>\n",
       "      <td>2.784</td>\n",
       "      <td>Okay,</td>\n",
       "      <td>SPEAKER_00</td>\n",
       "    </tr>\n",
       "    <tr>\n",
       "      <th>1</th>\n",
       "      <td>5.506</td>\n",
       "      <td>5.967</td>\n",
       "      <td>nevermind.</td>\n",
       "      <td>SPEAKER_01</td>\n",
       "    </tr>\n",
       "    <tr>\n",
       "      <th>2</th>\n",
       "      <td>5.987</td>\n",
       "      <td>6.027</td>\n",
       "      <td>Do</td>\n",
       "      <td>SPEAKER_01</td>\n",
       "    </tr>\n",
       "    <tr>\n",
       "      <th>3</th>\n",
       "      <td>9.549</td>\n",
       "      <td>11.350</td>\n",
       "      <td>you</td>\n",
       "      <td>SPEAKER_01</td>\n",
       "    </tr>\n",
       "    <tr>\n",
       "      <th>4</th>\n",
       "      <td>18.235</td>\n",
       "      <td>18.675</td>\n",
       "      <td>see</td>\n",
       "      <td>SPEAKER_01</td>\n",
       "    </tr>\n",
       "  </tbody>\n",
       "</table>\n",
       "</div>"
      ],
      "text/plain": [
       "    start     end        text     speaker\n",
       "0   1.684   2.784       Okay,  SPEAKER_00\n",
       "1   5.506   5.967  nevermind.  SPEAKER_01\n",
       "2   5.987   6.027          Do  SPEAKER_01\n",
       "3   9.549  11.350         you  SPEAKER_01\n",
       "4  18.235  18.675         see  SPEAKER_01"
      ]
     },
     "execution_count": 9,
     "metadata": {},
     "output_type": "execute_result"
    }
   ],
   "source": [
    "transcription_df.head()"
   ]
  },
  {
   "cell_type": "code",
   "execution_count": 19,
   "metadata": {},
   "outputs": [
    {
     "data": {
      "text/html": [
       "<div>\n",
       "<style scoped>\n",
       "    .dataframe tbody tr th:only-of-type {\n",
       "        vertical-align: middle;\n",
       "    }\n",
       "\n",
       "    .dataframe tbody tr th {\n",
       "        vertical-align: top;\n",
       "    }\n",
       "\n",
       "    .dataframe thead th {\n",
       "        text-align: right;\n",
       "    }\n",
       "</style>\n",
       "<table border=\"1\" class=\"dataframe\">\n",
       "  <thead>\n",
       "    <tr style=\"text-align: right;\">\n",
       "      <th></th>\n",
       "      <th>words</th>\n",
       "      <th>diction_code</th>\n",
       "    </tr>\n",
       "  </thead>\n",
       "  <tbody>\n",
       "    <tr>\n",
       "      <th>0</th>\n",
       "      <td>(:</td>\n",
       "      <td>P33_IAM</td>\n",
       "    </tr>\n",
       "    <tr>\n",
       "      <th>1</th>\n",
       "      <td>i like*</td>\n",
       "      <td>P30_INTER</td>\n",
       "    </tr>\n",
       "    <tr>\n",
       "      <th>2</th>\n",
       "      <td>(should not) like</td>\n",
       "      <td>N30_INTER</td>\n",
       "    </tr>\n",
       "    <tr>\n",
       "      <th>3</th>\n",
       "      <td>they like*</td>\n",
       "      <td>P30_INTER</td>\n",
       "    </tr>\n",
       "    <tr>\n",
       "      <th>4</th>\n",
       "      <td>we like*</td>\n",
       "      <td>P30_INTER</td>\n",
       "    </tr>\n",
       "  </tbody>\n",
       "</table>\n",
       "</div>"
      ],
      "text/plain": [
       "               words diction_code\n",
       "0                 (:      P33_IAM\n",
       "1            i like*    P30_INTER\n",
       "2  (should not) like    N30_INTER\n",
       "3         they like*    P30_INTER\n",
       "4           we like*    P30_INTER"
      ]
     },
     "execution_count": 19,
     "metadata": {},
     "output_type": "execute_result"
    }
   ],
   "source": [
    "# only save the words and diction_code columns\n",
    "dictionary_df = dictionary_df[['words', 'diction_code']]\n",
    "dictionary_df.head()"
   ]
  },
  {
   "cell_type": "code",
   "execution_count": 23,
   "metadata": {},
   "outputs": [],
   "source": [
    "# Extract category-wise words, handling wildcards and context-based words\n",
    "category_words = defaultdict(set)  # Stores direct words (key: category, value: set of words)\n",
    "category_patterns = defaultdict(list)  # Stores regex patterns and context-based words\n",
    "\n",
    "for _, row in dictionary_df.iterrows():\n",
    "    word = str(row['words']).strip().lower()  # Normalize word\n",
    "    category = row['diction_code']\n",
    "    \n",
    "    # Skip negative diction codes\n",
    "    if category[0]== 'N':\n",
    "        continue\n",
    "\n",
    "    # Handle wildcard \"*\"\n",
    "    if '*' in word:\n",
    "        regex_pattern = re.sub(r'\\*', r'.*', word)  # Convert * to regex pattern\n",
    "        category_patterns[category].append(re.compile(regex_pattern))\n",
    "    else:\n",
    "        category_words[category].add(word)  # Store as a normal word"
   ]
  },
  {
   "cell_type": "code",
   "execution_count": 25,
   "metadata": {},
   "outputs": [
    {
     "name": "stdout",
     "output_type": "stream",
     "text": [
      "Category: P33_IAM, Words: ['kind', 'optimistic', 'cuter', 'comforting', 'commiserates']\n",
      "Category: P30_INTER, Words: ['peacefully', 'amity', 'dude', 'heartening', 'lovelier']\n",
      "Category: P10_TRANS, Words: ['designed', 'directions', 'depiction', 'quests', 'gauge']\n",
      "Category: P100_OVERALL, Words: ['write', 'situation', 'tryin', 'major', 'equilize']\n",
      "Category: P21_AMP, Words: ['producing', 'achieves', 'achievement', 'updating', 'accomplishes']\n",
      "Category: P20_ACT, Words: ['avails', 'refill', 'remote', 'executed', 'react']\n",
      "Category: P11_TMA, Words: ['adjustable', 'routes', 'ad-libbing', 'stage', 'subject']\n",
      "Category: P13_TSF, Words: ['developes', 'deadline', 'scheme', 'elements', 'schemes']\n",
      "Category: P31_ICM, Words: ['moderation', 'reconciles', 'arbitrators', 'conform', 'assents']\n",
      "Category: P23_ATM, Words: ['takes-care', 'takes-over', 'aids', 'conducting', 'workload-sharing']\n",
      "Category: P24_ACO, Words: ['combine', 'intermixed', 'conjoined', 'grouping', 'divides']\n",
      "Category: P32_IMO, Words: ['gorgeous', 'excellently', 'spurred', 'excellent', 'excitement']\n",
      "Category: P22_ASM, Words: ['diminishes', 'measure', 'restored', 'deterioration', 'decreases']\n",
      "Category: P12_TGS, Words: ['requesting', 'objective', 'order', 'sketches', 'direction']\n",
      "Category: P30_INTER, Patterns: 91 patterns\n",
      "  Pattern: i like.*\n",
      "  Pattern: they like.*\n",
      "  Pattern: we like.*\n",
      "  Pattern: will like.*\n",
      "  Pattern: you like.*\n",
      "Category: P33_IAM, Patterns: 32 patterns\n",
      "  Pattern: accepta.*\n",
      "  Pattern: affection.*\n",
      "  Pattern: amus.*\n",
      "  Pattern: appreciat.*\n",
      "  Pattern: bless.*\n",
      "Category: P100_OVERALL, Patterns: 18 patterns\n",
      "  Pattern: agreement.*\n",
      "  Pattern: benefic.*\n",
      "  Pattern: benefitt.*\n",
      "  Pattern: bonus.*\n",
      "  Pattern: credit.*\n",
      "Category: P32_IMO, Patterns: 20 patterns\n",
      "  Pattern: amaze.*\n",
      "  Pattern: assur.*\n",
      "  Pattern: brilliance.*\n",
      "  Pattern: courag.*\n",
      "  Pattern: determina.*\n",
      "Category: P10_TRANS, Patterns: 24 patterns\n",
      "  Pattern: anticipat.*\n",
      "  Pattern: approv.*\n",
      "  Pattern: ease.*\n",
      "  Pattern: expect.*\n",
      "  Pattern: forbod.*\n",
      "Category: P31_ICM, Patterns: 4 patterns\n",
      "  Pattern: defend.*\n",
      "  Pattern: forgiv.*\n",
      "  Pattern: harmless.*\n",
      "  Pattern: harmon.*\n",
      "Category: P12_TGS, Patterns: 1 patterns\n",
      "  Pattern: desir.*\n",
      "Category: P20_ACT, Patterns: 15 patterns\n",
      "  Pattern: divin.*\n",
      "  Pattern: engag.*\n",
      "  Pattern: freed.*\n",
      "  Pattern: helper.*\n",
      "  Pattern: oh.*\n",
      "Category: P11_TMA, Patterns: 1 patterns\n",
      "  Pattern: opportunit.*\n",
      "Category: P21_AMP, Patterns: 1 patterns\n",
      "  Pattern: succeed.*\n"
     ]
    }
   ],
   "source": [
    "# View the categories and their words\n",
    "for category, words in category_words.items():\n",
    "    print(f\"Category: {category}, Words: {list(words)[:5]}\")  # Display first 5 words for brevity\n",
    "\n",
    "for category, patterns in category_patterns.items():\n",
    "    print(f\"Category: {category}, Patterns: {len(patterns)} patterns\")\n",
    "    for pattern in patterns[:5]:\n",
    "        print(f\"  Pattern: {pattern.pattern}\")"
   ]
  },
  {
   "cell_type": "code",
   "execution_count": null,
   "metadata": {},
   "outputs": [],
   "source": []
  }
 ],
 "metadata": {
  "kernelspec": {
   "display_name": "venv",
   "language": "python",
   "name": "python3"
  },
  "language_info": {
   "codemirror_mode": {
    "name": "ipython",
    "version": 3
   },
   "file_extension": ".py",
   "mimetype": "text/x-python",
   "name": "python",
   "nbconvert_exporter": "python",
   "pygments_lexer": "ipython3",
   "version": "3.10.5"
  }
 },
 "nbformat": 4,
 "nbformat_minor": 2
}
